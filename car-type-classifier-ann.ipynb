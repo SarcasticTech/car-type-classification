{
 "cells": [
  {
   "cell_type": "markdown",
   "id": "40cf1839",
   "metadata": {},
   "source": [
    "<b><font size=\"3\">Importing Libraries</font></b>"
   ]
  },
  {
   "cell_type": "code",
   "execution_count": 1,
   "id": "333be11a",
   "metadata": {},
   "outputs": [],
   "source": [
    "import pandas as pd\n",
    "import numpy as np\n",
    "import sklearn as sk\n",
    "import matplotlib.pyplot as plt\n",
    "import seaborn as sns\n",
    "import tensorflow as tf\n",
    "import keras\n",
    "\n",
    "import warnings\n",
    "warnings.filterwarnings('ignore')\n",
    "\n",
    "from sklearn.preprocessing import LabelEncoder\n",
    "from sklearn.model_selection import train_test_split\n",
    "from sklearn.metrics import classification_report, confusion_matrix\n",
    "\n",
    "from keras.models import Sequential\n",
    "from keras.layers import Dense\n",
    "from keras.layers import Dropout\n",
    "from keras.constraints import maxnorm"
   ]
  },
  {
   "cell_type": "code",
   "execution_count": null,
   "id": "4aec144f",
   "metadata": {},
   "outputs": [],
   "source": [
    "missing_rows = df[df.isnull().any(axis=1)]\n",
    "missing_rows"
   ]
  },
  {
   "cell_type": "markdown",
   "id": "c958a0f1",
   "metadata": {},
   "source": [
    "<b><font size=\"3\">Importing & Inserting Column Names for Dataset</font></b>"
   ]
  },
  {
   "cell_type": "code",
   "execution_count": 2,
   "id": "95b26f24",
   "metadata": {},
   "outputs": [],
   "source": [
    "col_names = ['Buying', 'Maint', 'Doors', 'Persons', 'Lug.Boot', 'Safety', 'Class']"
   ]
  },
  {
   "cell_type": "code",
   "execution_count": 3,
   "id": "af6e121a",
   "metadata": {},
   "outputs": [],
   "source": [
    "car_data = pd.read_csv('C:\\\\Users\\\\jorom\\\\Documents\\\\University\\\\Trimester 1\\\\Assignment\\\\Machine Learning & Data Mining\\\\Items\\\\car.data', names = col_names)"
   ]
  },
  {
   "cell_type": "markdown",
   "id": "8b77a87d",
   "metadata": {},
   "source": [
    "<b><font size=\"3\">Reading the Dataset</font></b>"
   ]
  },
  {
   "cell_type": "code",
   "execution_count": 4,
   "id": "5e30104c",
   "metadata": {},
   "outputs": [
    {
     "name": "stdout",
     "output_type": "stream",
     "text": [
      "The data set has 1728 rows and 7 columns.\n"
     ]
    }
   ],
   "source": [
    "print(\"The data set has {} rows and {} columns.\".format(car_data.shape[0],car_data.shape[1]))"
   ]
  },
  {
   "cell_type": "code",
   "execution_count": 5,
   "id": "f9e83be9",
   "metadata": {},
   "outputs": [
    {
     "data": {
      "text/html": [
       "<div>\n",
       "<style scoped>\n",
       "    .dataframe tbody tr th:only-of-type {\n",
       "        vertical-align: middle;\n",
       "    }\n",
       "\n",
       "    .dataframe tbody tr th {\n",
       "        vertical-align: top;\n",
       "    }\n",
       "\n",
       "    .dataframe thead th {\n",
       "        text-align: right;\n",
       "    }\n",
       "</style>\n",
       "<table border=\"1\" class=\"dataframe\">\n",
       "  <thead>\n",
       "    <tr style=\"text-align: right;\">\n",
       "      <th></th>\n",
       "      <th>Buying</th>\n",
       "      <th>Maint</th>\n",
       "      <th>Doors</th>\n",
       "      <th>Persons</th>\n",
       "      <th>Lug.Boot</th>\n",
       "      <th>Safety</th>\n",
       "      <th>Class</th>\n",
       "    </tr>\n",
       "  </thead>\n",
       "  <tbody>\n",
       "    <tr>\n",
       "      <th>0</th>\n",
       "      <td>vhigh</td>\n",
       "      <td>vhigh</td>\n",
       "      <td>2</td>\n",
       "      <td>2</td>\n",
       "      <td>small</td>\n",
       "      <td>low</td>\n",
       "      <td>unacc</td>\n",
       "    </tr>\n",
       "    <tr>\n",
       "      <th>1</th>\n",
       "      <td>vhigh</td>\n",
       "      <td>vhigh</td>\n",
       "      <td>2</td>\n",
       "      <td>2</td>\n",
       "      <td>small</td>\n",
       "      <td>med</td>\n",
       "      <td>unacc</td>\n",
       "    </tr>\n",
       "    <tr>\n",
       "      <th>2</th>\n",
       "      <td>vhigh</td>\n",
       "      <td>vhigh</td>\n",
       "      <td>2</td>\n",
       "      <td>2</td>\n",
       "      <td>small</td>\n",
       "      <td>high</td>\n",
       "      <td>unacc</td>\n",
       "    </tr>\n",
       "    <tr>\n",
       "      <th>3</th>\n",
       "      <td>vhigh</td>\n",
       "      <td>vhigh</td>\n",
       "      <td>2</td>\n",
       "      <td>2</td>\n",
       "      <td>med</td>\n",
       "      <td>low</td>\n",
       "      <td>unacc</td>\n",
       "    </tr>\n",
       "    <tr>\n",
       "      <th>4</th>\n",
       "      <td>vhigh</td>\n",
       "      <td>vhigh</td>\n",
       "      <td>2</td>\n",
       "      <td>2</td>\n",
       "      <td>med</td>\n",
       "      <td>med</td>\n",
       "      <td>unacc</td>\n",
       "    </tr>\n",
       "  </tbody>\n",
       "</table>\n",
       "</div>"
      ],
      "text/plain": [
       "  Buying  Maint Doors Persons Lug.Boot Safety  Class\n",
       "0  vhigh  vhigh     2       2    small    low  unacc\n",
       "1  vhigh  vhigh     2       2    small    med  unacc\n",
       "2  vhigh  vhigh     2       2    small   high  unacc\n",
       "3  vhigh  vhigh     2       2      med    low  unacc\n",
       "4  vhigh  vhigh     2       2      med    med  unacc"
      ]
     },
     "execution_count": 5,
     "metadata": {},
     "output_type": "execute_result"
    }
   ],
   "source": [
    "car_data.head()"
   ]
  },
  {
   "cell_type": "code",
   "execution_count": 6,
   "id": "b3a599a0",
   "metadata": {},
   "outputs": [
    {
     "name": "stdout",
     "output_type": "stream",
     "text": [
      "<class 'pandas.core.frame.DataFrame'>\n",
      "RangeIndex: 1728 entries, 0 to 1727\n",
      "Data columns (total 7 columns):\n",
      " #   Column    Non-Null Count  Dtype \n",
      "---  ------    --------------  ----- \n",
      " 0   Buying    1728 non-null   object\n",
      " 1   Maint     1728 non-null   object\n",
      " 2   Doors     1728 non-null   object\n",
      " 3   Persons   1728 non-null   object\n",
      " 4   Lug.Boot  1728 non-null   object\n",
      " 5   Safety    1728 non-null   object\n",
      " 6   Class     1728 non-null   object\n",
      "dtypes: object(7)\n",
      "memory usage: 94.6+ KB\n"
     ]
    }
   ],
   "source": [
    "car_data.info()"
   ]
  },
  {
   "cell_type": "code",
   "execution_count": 7,
   "id": "58e512bc",
   "metadata": {},
   "outputs": [
    {
     "data": {
      "text/html": [
       "<div>\n",
       "<style scoped>\n",
       "    .dataframe tbody tr th:only-of-type {\n",
       "        vertical-align: middle;\n",
       "    }\n",
       "\n",
       "    .dataframe tbody tr th {\n",
       "        vertical-align: top;\n",
       "    }\n",
       "\n",
       "    .dataframe thead th {\n",
       "        text-align: right;\n",
       "    }\n",
       "</style>\n",
       "<table border=\"1\" class=\"dataframe\">\n",
       "  <thead>\n",
       "    <tr style=\"text-align: right;\">\n",
       "      <th></th>\n",
       "      <th>Buying</th>\n",
       "      <th>Maint</th>\n",
       "      <th>Doors</th>\n",
       "      <th>Persons</th>\n",
       "      <th>Lug.Boot</th>\n",
       "      <th>Safety</th>\n",
       "      <th>Class</th>\n",
       "    </tr>\n",
       "  </thead>\n",
       "  <tbody>\n",
       "    <tr>\n",
       "      <th>count</th>\n",
       "      <td>1728</td>\n",
       "      <td>1728</td>\n",
       "      <td>1728</td>\n",
       "      <td>1728</td>\n",
       "      <td>1728</td>\n",
       "      <td>1728</td>\n",
       "      <td>1728</td>\n",
       "    </tr>\n",
       "    <tr>\n",
       "      <th>unique</th>\n",
       "      <td>4</td>\n",
       "      <td>4</td>\n",
       "      <td>4</td>\n",
       "      <td>3</td>\n",
       "      <td>3</td>\n",
       "      <td>3</td>\n",
       "      <td>4</td>\n",
       "    </tr>\n",
       "    <tr>\n",
       "      <th>top</th>\n",
       "      <td>vhigh</td>\n",
       "      <td>vhigh</td>\n",
       "      <td>2</td>\n",
       "      <td>2</td>\n",
       "      <td>small</td>\n",
       "      <td>low</td>\n",
       "      <td>unacc</td>\n",
       "    </tr>\n",
       "    <tr>\n",
       "      <th>freq</th>\n",
       "      <td>432</td>\n",
       "      <td>432</td>\n",
       "      <td>432</td>\n",
       "      <td>576</td>\n",
       "      <td>576</td>\n",
       "      <td>576</td>\n",
       "      <td>1210</td>\n",
       "    </tr>\n",
       "  </tbody>\n",
       "</table>\n",
       "</div>"
      ],
      "text/plain": [
       "       Buying  Maint Doors Persons Lug.Boot Safety  Class\n",
       "count    1728   1728  1728    1728     1728   1728   1728\n",
       "unique      4      4     4       3        3      3      4\n",
       "top     vhigh  vhigh     2       2    small    low  unacc\n",
       "freq      432    432   432     576      576    576   1210"
      ]
     },
     "execution_count": 7,
     "metadata": {},
     "output_type": "execute_result"
    }
   ],
   "source": [
    "car_data.describe()"
   ]
  },
  {
   "cell_type": "code",
   "execution_count": 8,
   "id": "49f6e658",
   "metadata": {},
   "outputs": [
    {
     "data": {
      "text/plain": [
       "Buying      False\n",
       "Maint       False\n",
       "Doors       False\n",
       "Persons     False\n",
       "Lug.Boot    False\n",
       "Safety      False\n",
       "Class       False\n",
       "dtype: bool"
      ]
     },
     "execution_count": 8,
     "metadata": {},
     "output_type": "execute_result"
    }
   ],
   "source": [
    "car_data.isnull().any()"
   ]
  },
  {
   "cell_type": "code",
   "execution_count": 9,
   "id": "bd882aa5",
   "metadata": {},
   "outputs": [
    {
     "name": "stdout",
     "output_type": "stream",
     "text": [
      "Column: Buying\n",
      "vhigh    432\n",
      "high     432\n",
      "med      432\n",
      "low      432\n",
      "Name: Buying, dtype: int64 \n",
      "\n",
      "Column: Maint\n",
      "vhigh    432\n",
      "high     432\n",
      "med      432\n",
      "low      432\n",
      "Name: Maint, dtype: int64 \n",
      "\n",
      "Column: Doors\n",
      "2        432\n",
      "3        432\n",
      "4        432\n",
      "5more    432\n",
      "Name: Doors, dtype: int64 \n",
      "\n",
      "Column: Persons\n",
      "2       576\n",
      "4       576\n",
      "more    576\n",
      "Name: Persons, dtype: int64 \n",
      "\n",
      "Column: Lug.Boot\n",
      "small    576\n",
      "med      576\n",
      "big      576\n",
      "Name: Lug.Boot, dtype: int64 \n",
      "\n",
      "Column: Safety\n",
      "low     576\n",
      "med     576\n",
      "high    576\n",
      "Name: Safety, dtype: int64 \n",
      "\n",
      "Column: Class\n",
      "unacc    1210\n",
      "acc       384\n",
      "good       69\n",
      "vgood      65\n",
      "Name: Class, dtype: int64 \n",
      "\n"
     ]
    }
   ],
   "source": [
    "for col in car_data.columns:\n",
    "    print(\"Column:\", col)\n",
    "    print(car_data[col].value_counts(),'\\n')"
   ]
  },
  {
   "cell_type": "code",
   "execution_count": 10,
   "id": "20d23b11",
   "metadata": {},
   "outputs": [
    {
     "data": {
      "text/plain": [
       "<AxesSubplot:xlabel='Class', ylabel='count'>"
      ]
     },
     "execution_count": 10,
     "metadata": {},
     "output_type": "execute_result"
    },
    {
     "data": {
      "image/png": "[encoded data removed]",
      "text/plain": [
       "<Figure size 432x288 with 1 Axes>"
      ]
     },
     "metadata": {
      "needs_background": "light"
     },
     "output_type": "display_data"
    }
   ],
   "source": [
    "sns.countplot(car_data['Class'])"
   ]
  },
  {
   "cell_type": "code",
   "execution_count": 11,
   "id": "18a868cd",
   "metadata": {},
   "outputs": [
    {
     "data": {
      "image/png": "[encoded data removed]",
      "text/plain": [
       "<Figure size 864x432 with 1 Axes>"
      ]
     },
     "metadata": {
      "needs_background": "light"
     },
     "output_type": "display_data"
    },
    {
     "data": {
      "image/png": "[encoded data removed]",
      "text/plain": [
       "<Figure size 864x432 with 1 Axes>"
      ]
     },
     "metadata": {
      "needs_background": "light"
     },
     "output_type": "display_data"
    },
    {
     "data": {
      "image/png": "[encoded data removed]",
      "text/plain": [
       "<Figure size 864x432 with 1 Axes>"
      ]
     },
     "metadata": {
      "needs_background": "light"
     },
     "output_type": "display_data"
    },
    {
     "data": {
      "image/png": "[encoded data removed]",
      "text/plain": [
       "<Figure size 864x432 with 1 Axes>"
      ]
     },
     "metadata": {
      "needs_background": "light"
     },
     "output_type": "display_data"
    },
    {
     "data": {
      "image/png": "[encoded data removed]",
      "text/plain": [
       "<Figure size 864x432 with 1 Axes>"
      ]
     },
     "metadata": {
      "needs_background": "light"
     },
     "output_type": "display_data"
    },
    {
     "data": {
      "image/png": "[encoded data removed]",
      "text/plain": [
       "<Figure size 864x432 with 1 Axes>"
      ]
     },
     "metadata": {
      "needs_background": "light"
     },
     "output_type": "display_data"
    }
   ],
   "source": [
    "for i in car_data.columns[:-1]:\n",
    "    plt.figure(figsize=(12,6))\n",
    "    plt.title(\"Feature '%s'\"%i)\n",
    "    sns.countplot(car_data[i],hue=car_data['Class'])"
   ]
  },
  {
   "cell_type": "markdown",
   "id": "92220491",
   "metadata": {},
   "source": [
    "<b><font size=\"3\">Using LabelEncoder to Convert Values to Numeric</font></b>"
   ]
  },
  {
   "cell_type": "code",
   "execution_count": 12,
   "id": "f2c703f7",
   "metadata": {},
   "outputs": [],
   "source": [
    "le=LabelEncoder()"
   ]
  },
  {
   "cell_type": "code",
   "execution_count": 13,
   "id": "e4e10028",
   "metadata": {},
   "outputs": [],
   "source": [
    "for i in car_data.columns:\n",
    "    car_data[i]=le.fit_transform(car_data[i])"
   ]
  },
  {
   "cell_type": "code",
   "execution_count": 14,
   "id": "0a54c7d8",
   "metadata": {},
   "outputs": [
    {
     "data": {
      "text/html": [
       "<div>\n",
       "<style scoped>\n",
       "    .dataframe tbody tr th:only-of-type {\n",
       "        vertical-align: middle;\n",
       "    }\n",
       "\n",
       "    .dataframe tbody tr th {\n",
       "        vertical-align: top;\n",
       "    }\n",
       "\n",
       "    .dataframe thead th {\n",
       "        text-align: right;\n",
       "    }\n",
       "</style>\n",
       "<table border=\"1\" class=\"dataframe\">\n",
       "  <thead>\n",
       "    <tr style=\"text-align: right;\">\n",
       "      <th></th>\n",
       "      <th>Buying</th>\n",
       "      <th>Maint</th>\n",
       "      <th>Doors</th>\n",
       "      <th>Persons</th>\n",
       "      <th>Lug.Boot</th>\n",
       "      <th>Safety</th>\n",
       "      <th>Class</th>\n",
       "    </tr>\n",
       "  </thead>\n",
       "  <tbody>\n",
       "    <tr>\n",
       "      <th>0</th>\n",
       "      <td>3</td>\n",
       "      <td>3</td>\n",
       "      <td>0</td>\n",
       "      <td>0</td>\n",
       "      <td>2</td>\n",
       "      <td>1</td>\n",
       "      <td>2</td>\n",
       "    </tr>\n",
       "    <tr>\n",
       "      <th>1</th>\n",
       "      <td>3</td>\n",
       "      <td>3</td>\n",
       "      <td>0</td>\n",
       "      <td>0</td>\n",
       "      <td>2</td>\n",
       "      <td>2</td>\n",
       "      <td>2</td>\n",
       "    </tr>\n",
       "    <tr>\n",
       "      <th>2</th>\n",
       "      <td>3</td>\n",
       "      <td>3</td>\n",
       "      <td>0</td>\n",
       "      <td>0</td>\n",
       "      <td>2</td>\n",
       "      <td>0</td>\n",
       "      <td>2</td>\n",
       "    </tr>\n",
       "    <tr>\n",
       "      <th>3</th>\n",
       "      <td>3</td>\n",
       "      <td>3</td>\n",
       "      <td>0</td>\n",
       "      <td>0</td>\n",
       "      <td>1</td>\n",
       "      <td>1</td>\n",
       "      <td>2</td>\n",
       "    </tr>\n",
       "    <tr>\n",
       "      <th>4</th>\n",
       "      <td>3</td>\n",
       "      <td>3</td>\n",
       "      <td>0</td>\n",
       "      <td>0</td>\n",
       "      <td>1</td>\n",
       "      <td>2</td>\n",
       "      <td>2</td>\n",
       "    </tr>\n",
       "  </tbody>\n",
       "</table>\n",
       "</div>"
      ],
      "text/plain": [
       "   Buying  Maint  Doors  Persons  Lug.Boot  Safety  Class\n",
       "0       3      3      0        0         2       1      2\n",
       "1       3      3      0        0         2       2      2\n",
       "2       3      3      0        0         2       0      2\n",
       "3       3      3      0        0         1       1      2\n",
       "4       3      3      0        0         1       2      2"
      ]
     },
     "execution_count": 14,
     "metadata": {},
     "output_type": "execute_result"
    }
   ],
   "source": [
    "car_data.head()"
   ]
  },
  {
   "cell_type": "code",
   "execution_count": 15,
   "id": "8f4fe66a",
   "metadata": {},
   "outputs": [
    {
     "data": {
      "text/html": [
       "<div>\n",
       "<style scoped>\n",
       "    .dataframe tbody tr th:only-of-type {\n",
       "        vertical-align: middle;\n",
       "    }\n",
       "\n",
       "    .dataframe tbody tr th {\n",
       "        vertical-align: top;\n",
       "    }\n",
       "\n",
       "    .dataframe thead th {\n",
       "        text-align: right;\n",
       "    }\n",
       "</style>\n",
       "<table border=\"1\" class=\"dataframe\">\n",
       "  <thead>\n",
       "    <tr style=\"text-align: right;\">\n",
       "      <th></th>\n",
       "      <th>Buying</th>\n",
       "      <th>Maint</th>\n",
       "      <th>Doors</th>\n",
       "      <th>Persons</th>\n",
       "      <th>Lug.Boot</th>\n",
       "      <th>Safety</th>\n",
       "      <th>Class</th>\n",
       "    </tr>\n",
       "  </thead>\n",
       "  <tbody>\n",
       "    <tr>\n",
       "      <th>count</th>\n",
       "      <td>1728.000000</td>\n",
       "      <td>1728.000000</td>\n",
       "      <td>1728.000000</td>\n",
       "      <td>1728.000000</td>\n",
       "      <td>1728.000000</td>\n",
       "      <td>1728.000000</td>\n",
       "      <td>1728.000000</td>\n",
       "    </tr>\n",
       "    <tr>\n",
       "      <th>mean</th>\n",
       "      <td>1.500000</td>\n",
       "      <td>1.500000</td>\n",
       "      <td>1.500000</td>\n",
       "      <td>1.000000</td>\n",
       "      <td>1.000000</td>\n",
       "      <td>1.000000</td>\n",
       "      <td>1.553241</td>\n",
       "    </tr>\n",
       "    <tr>\n",
       "      <th>std</th>\n",
       "      <td>1.118358</td>\n",
       "      <td>1.118358</td>\n",
       "      <td>1.118358</td>\n",
       "      <td>0.816733</td>\n",
       "      <td>0.816733</td>\n",
       "      <td>0.816733</td>\n",
       "      <td>0.875948</td>\n",
       "    </tr>\n",
       "    <tr>\n",
       "      <th>min</th>\n",
       "      <td>0.000000</td>\n",
       "      <td>0.000000</td>\n",
       "      <td>0.000000</td>\n",
       "      <td>0.000000</td>\n",
       "      <td>0.000000</td>\n",
       "      <td>0.000000</td>\n",
       "      <td>0.000000</td>\n",
       "    </tr>\n",
       "    <tr>\n",
       "      <th>25%</th>\n",
       "      <td>0.750000</td>\n",
       "      <td>0.750000</td>\n",
       "      <td>0.750000</td>\n",
       "      <td>0.000000</td>\n",
       "      <td>0.000000</td>\n",
       "      <td>0.000000</td>\n",
       "      <td>1.000000</td>\n",
       "    </tr>\n",
       "    <tr>\n",
       "      <th>50%</th>\n",
       "      <td>1.500000</td>\n",
       "      <td>1.500000</td>\n",
       "      <td>1.500000</td>\n",
       "      <td>1.000000</td>\n",
       "      <td>1.000000</td>\n",
       "      <td>1.000000</td>\n",
       "      <td>2.000000</td>\n",
       "    </tr>\n",
       "    <tr>\n",
       "      <th>75%</th>\n",
       "      <td>2.250000</td>\n",
       "      <td>2.250000</td>\n",
       "      <td>2.250000</td>\n",
       "      <td>2.000000</td>\n",
       "      <td>2.000000</td>\n",
       "      <td>2.000000</td>\n",
       "      <td>2.000000</td>\n",
       "    </tr>\n",
       "    <tr>\n",
       "      <th>max</th>\n",
       "      <td>3.000000</td>\n",
       "      <td>3.000000</td>\n",
       "      <td>3.000000</td>\n",
       "      <td>2.000000</td>\n",
       "      <td>2.000000</td>\n",
       "      <td>2.000000</td>\n",
       "      <td>3.000000</td>\n",
       "    </tr>\n",
       "  </tbody>\n",
       "</table>\n",
       "</div>"
      ],
      "text/plain": [
       "            Buying        Maint        Doors      Persons     Lug.Boot  \\\n",
       "count  1728.000000  1728.000000  1728.000000  1728.000000  1728.000000   \n",
       "mean      1.500000     1.500000     1.500000     1.000000     1.000000   \n",
       "std       1.118358     1.118358     1.118358     0.816733     0.816733   \n",
       "min       0.000000     0.000000     0.000000     0.000000     0.000000   \n",
       "25%       0.750000     0.750000     0.750000     0.000000     0.000000   \n",
       "50%       1.500000     1.500000     1.500000     1.000000     1.000000   \n",
       "75%       2.250000     2.250000     2.250000     2.000000     2.000000   \n",
       "max       3.000000     3.000000     3.000000     2.000000     2.000000   \n",
       "\n",
       "            Safety        Class  \n",
       "count  1728.000000  1728.000000  \n",
       "mean      1.000000     1.553241  \n",
       "std       0.816733     0.875948  \n",
       "min       0.000000     0.000000  \n",
       "25%       0.000000     1.000000  \n",
       "50%       1.000000     2.000000  \n",
       "75%       2.000000     2.000000  \n",
       "max       2.000000     3.000000  "
      ]
     },
     "execution_count": 15,
     "metadata": {},
     "output_type": "execute_result"
    }
   ],
   "source": [
    "car_data.describe()"
   ]
  },
  {
   "cell_type": "code",
   "execution_count": 16,
   "id": "16f6cfb0",
   "metadata": {},
   "outputs": [
    {
     "name": "stdout",
     "output_type": "stream",
     "text": [
      "<class 'pandas.core.frame.DataFrame'>\n",
      "RangeIndex: 1728 entries, 0 to 1727\n",
      "Data columns (total 7 columns):\n",
      " #   Column    Non-Null Count  Dtype\n",
      "---  ------    --------------  -----\n",
      " 0   Buying    1728 non-null   int32\n",
      " 1   Maint     1728 non-null   int32\n",
      " 2   Doors     1728 non-null   int32\n",
      " 3   Persons   1728 non-null   int32\n",
      " 4   Lug.Boot  1728 non-null   int32\n",
      " 5   Safety    1728 non-null   int32\n",
      " 6   Class     1728 non-null   int32\n",
      "dtypes: int32(7)\n",
      "memory usage: 47.4 KB\n"
     ]
    }
   ],
   "source": [
    "car_data.info()"
   ]
  },
  {
   "cell_type": "markdown",
   "id": "cb30ede1",
   "metadata": {},
   "source": [
    "<b><font size=\"3\">Splitting the Data for Accuracy Tests</font></b>"
   ]
  },
  {
   "cell_type": "code",
   "execution_count": 17,
   "id": "87318e9f",
   "metadata": {},
   "outputs": [],
   "source": [
    "X = car_data[car_data.columns[:-1]]\n",
    "Y = car_data['Class']"
   ]
  },
  {
   "cell_type": "code",
   "execution_count": 18,
   "id": "33ee6997",
   "metadata": {},
   "outputs": [
    {
     "data": {
      "text/html": [
       "<div>\n",
       "<style scoped>\n",
       "    .dataframe tbody tr th:only-of-type {\n",
       "        vertical-align: middle;\n",
       "    }\n",
       "\n",
       "    .dataframe tbody tr th {\n",
       "        vertical-align: top;\n",
       "    }\n",
       "\n",
       "    .dataframe thead th {\n",
       "        text-align: right;\n",
       "    }\n",
       "</style>\n",
       "<table border=\"1\" class=\"dataframe\">\n",
       "  <thead>\n",
       "    <tr style=\"text-align: right;\">\n",
       "      <th></th>\n",
       "      <th>Buying</th>\n",
       "      <th>Maint</th>\n",
       "      <th>Doors</th>\n",
       "      <th>Persons</th>\n",
       "      <th>Lug.Boot</th>\n",
       "      <th>Safety</th>\n",
       "    </tr>\n",
       "  </thead>\n",
       "  <tbody>\n",
       "    <tr>\n",
       "      <th>0</th>\n",
       "      <td>3</td>\n",
       "      <td>3</td>\n",
       "      <td>0</td>\n",
       "      <td>0</td>\n",
       "      <td>2</td>\n",
       "      <td>1</td>\n",
       "    </tr>\n",
       "    <tr>\n",
       "      <th>1</th>\n",
       "      <td>3</td>\n",
       "      <td>3</td>\n",
       "      <td>0</td>\n",
       "      <td>0</td>\n",
       "      <td>2</td>\n",
       "      <td>2</td>\n",
       "    </tr>\n",
       "    <tr>\n",
       "      <th>2</th>\n",
       "      <td>3</td>\n",
       "      <td>3</td>\n",
       "      <td>0</td>\n",
       "      <td>0</td>\n",
       "      <td>2</td>\n",
       "      <td>0</td>\n",
       "    </tr>\n",
       "    <tr>\n",
       "      <th>3</th>\n",
       "      <td>3</td>\n",
       "      <td>3</td>\n",
       "      <td>0</td>\n",
       "      <td>0</td>\n",
       "      <td>1</td>\n",
       "      <td>1</td>\n",
       "    </tr>\n",
       "    <tr>\n",
       "      <th>4</th>\n",
       "      <td>3</td>\n",
       "      <td>3</td>\n",
       "      <td>0</td>\n",
       "      <td>0</td>\n",
       "      <td>1</td>\n",
       "      <td>2</td>\n",
       "    </tr>\n",
       "  </tbody>\n",
       "</table>\n",
       "</div>"
      ],
      "text/plain": [
       "   Buying  Maint  Doors  Persons  Lug.Boot  Safety\n",
       "0       3      3      0        0         2       1\n",
       "1       3      3      0        0         2       2\n",
       "2       3      3      0        0         2       0\n",
       "3       3      3      0        0         1       1\n",
       "4       3      3      0        0         1       2"
      ]
     },
     "execution_count": 18,
     "metadata": {},
     "output_type": "execute_result"
    }
   ],
   "source": [
    "X.head()"
   ]
  },
  {
   "cell_type": "code",
   "execution_count": 19,
   "id": "2e5fbfe5",
   "metadata": {},
   "outputs": [
    {
     "data": {
      "text/plain": [
       "0    2\n",
       "1    2\n",
       "2    2\n",
       "3    2\n",
       "4    2\n",
       "Name: Class, dtype: int32"
      ]
     },
     "execution_count": 19,
     "metadata": {},
     "output_type": "execute_result"
    }
   ],
   "source": [
    "Y.head()"
   ]
  },
  {
   "cell_type": "code",
   "execution_count": 20,
   "id": "60231a0e",
   "metadata": {},
   "outputs": [],
   "source": [
    "X_Train, X_Test, Y_Train, Y_Test = train_test_split(X, Y, test_size=0.3, random_state = 1)"
   ]
  },
  {
   "cell_type": "markdown",
   "id": "6d5306f7",
   "metadata": {},
   "source": [
    "<b><font size=\"3\">Creating Model for ANN Classifier</font></b>"
   ]
  },
  {
   "cell_type": "code",
   "execution_count": 21,
   "id": "a2251b26",
   "metadata": {},
   "outputs": [],
   "source": [
    "model = tf.keras.models.Sequential()\n",
    "model.add(tf.keras.layers.Dense(100, activation='relu', input_shape=(6,))) \n",
    "model.add(tf.keras.layers.Dense(10, activation='relu', input_shape=(6,))) \n",
    "model.add(tf.keras.layers.Dense(5, activation='softmax'))"
   ]
  },
  {
   "cell_type": "code",
   "execution_count": 22,
   "id": "06bbf761",
   "metadata": {},
   "outputs": [],
   "source": [
    "model.compile(optimizer='adam', \n",
    "           loss='sparse_categorical_crossentropy',\n",
    "           metrics='accuracy')"
   ]
  },
  {
   "cell_type": "code",
   "execution_count": 23,
   "id": "5027eb56",
   "metadata": {},
   "outputs": [
    {
     "name": "stdout",
     "output_type": "stream",
     "text": [
      "Model: \"sequential\"\n",
      "_________________________________________________________________\n",
      " Layer (type)                Output Shape              Param #   \n",
      "=================================================================\n",
      " dense (Dense)               (None, 100)               700       \n",
      "                                                                 \n",
      " dense_1 (Dense)             (None, 10)                1010      \n",
      "                                                                 \n",
      " dense_2 (Dense)             (None, 5)                 55        \n",
      "                                                                 \n",
      "=================================================================\n",
      "Total params: 1,765\n",
      "Trainable params: 1,765\n",
      "Non-trainable params: 0\n",
      "_________________________________________________________________\n"
     ]
    }
   ],
   "source": [
    "model.summary()"
   ]
  },
  {
   "cell_type": "code",
   "execution_count": 24,
   "id": "d084ba84",
   "metadata": {},
   "outputs": [
    {
     "name": "stdout",
     "output_type": "stream",
     "text": [
      "Epoch 1/50\n",
      "194/194 - 1s - loss: 0.9314 - accuracy: 0.6887 - val_loss: 0.7384 - val_accuracy: 0.7025 - 668ms/epoch - 3ms/step\n",
      "Epoch 2/50\n",
      "194/194 - 0s - loss: 0.7182 - accuracy: 0.7042 - val_loss: 0.6996 - val_accuracy: 0.7066 - 229ms/epoch - 1ms/step\n",
      "Epoch 3/50\n",
      "194/194 - 0s - loss: 0.6665 - accuracy: 0.7032 - val_loss: 0.6574 - val_accuracy: 0.6901 - 215ms/epoch - 1ms/step\n",
      "Epoch 4/50\n",
      "194/194 - 0s - loss: 0.6082 - accuracy: 0.7342 - val_loss: 0.5700 - val_accuracy: 0.7521 - 209ms/epoch - 1ms/step\n",
      "Epoch 5/50\n",
      "194/194 - 0s - loss: 0.5317 - accuracy: 0.7766 - val_loss: 0.5270 - val_accuracy: 0.7686 - 210ms/epoch - 1ms/step\n",
      "Epoch 6/50\n",
      "194/194 - 0s - loss: 0.4812 - accuracy: 0.7901 - val_loss: 0.4737 - val_accuracy: 0.7769 - 199ms/epoch - 1ms/step\n",
      "Epoch 7/50\n",
      "194/194 - 0s - loss: 0.4313 - accuracy: 0.8139 - val_loss: 0.4310 - val_accuracy: 0.8140 - 206ms/epoch - 1ms/step\n",
      "Epoch 8/50\n",
      "194/194 - 0s - loss: 0.3939 - accuracy: 0.8345 - val_loss: 0.4111 - val_accuracy: 0.8017 - 214ms/epoch - 1ms/step\n",
      "Epoch 9/50\n",
      "194/194 - 0s - loss: 0.3680 - accuracy: 0.8511 - val_loss: 0.3709 - val_accuracy: 0.8678 - 214ms/epoch - 1ms/step\n",
      "Epoch 10/50\n",
      "194/194 - 0s - loss: 0.3337 - accuracy: 0.8676 - val_loss: 0.3920 - val_accuracy: 0.8140 - 207ms/epoch - 1ms/step\n",
      "Epoch 11/50\n",
      "194/194 - 0s - loss: 0.3095 - accuracy: 0.8862 - val_loss: 0.3225 - val_accuracy: 0.8884 - 217ms/epoch - 1ms/step\n",
      "Epoch 12/50\n",
      "194/194 - 0s - loss: 0.2858 - accuracy: 0.8935 - val_loss: 0.3404 - val_accuracy: 0.8430 - 216ms/epoch - 1ms/step\n",
      "Epoch 13/50\n",
      "194/194 - 0s - loss: 0.2684 - accuracy: 0.8966 - val_loss: 0.2954 - val_accuracy: 0.8967 - 208ms/epoch - 1ms/step\n",
      "Epoch 14/50\n",
      "194/194 - 0s - loss: 0.2518 - accuracy: 0.9080 - val_loss: 0.3014 - val_accuracy: 0.8595 - 209ms/epoch - 1ms/step\n",
      "Epoch 15/50\n",
      "194/194 - 0s - loss: 0.2350 - accuracy: 0.9038 - val_loss: 0.2747 - val_accuracy: 0.8967 - 208ms/epoch - 1ms/step\n",
      "Epoch 16/50\n",
      "194/194 - 0s - loss: 0.2276 - accuracy: 0.8997 - val_loss: 0.2643 - val_accuracy: 0.9050 - 201ms/epoch - 1ms/step\n",
      "Epoch 17/50\n",
      "194/194 - 0s - loss: 0.2114 - accuracy: 0.9173 - val_loss: 0.2449 - val_accuracy: 0.8843 - 206ms/epoch - 1ms/step\n",
      "Epoch 18/50\n",
      "194/194 - 0s - loss: 0.1974 - accuracy: 0.9183 - val_loss: 0.2386 - val_accuracy: 0.8967 - 193ms/epoch - 996us/step\n",
      "Epoch 19/50\n",
      "194/194 - 0s - loss: 0.1873 - accuracy: 0.9245 - val_loss: 0.2217 - val_accuracy: 0.9174 - 210ms/epoch - 1ms/step\n",
      "Epoch 20/50\n",
      "194/194 - 0s - loss: 0.1731 - accuracy: 0.9380 - val_loss: 0.2119 - val_accuracy: 0.9091 - 216ms/epoch - 1ms/step\n",
      "Epoch 21/50\n",
      "194/194 - 0s - loss: 0.1614 - accuracy: 0.9431 - val_loss: 0.2243 - val_accuracy: 0.9174 - 214ms/epoch - 1ms/step\n",
      "Epoch 22/50\n",
      "194/194 - 0s - loss: 0.1531 - accuracy: 0.9462 - val_loss: 0.1974 - val_accuracy: 0.9215 - 192ms/epoch - 992us/step\n",
      "Epoch 23/50\n",
      "194/194 - 0s - loss: 0.1478 - accuracy: 0.9514 - val_loss: 0.1828 - val_accuracy: 0.9298 - 209ms/epoch - 1ms/step\n",
      "Epoch 24/50\n",
      "194/194 - 0s - loss: 0.1402 - accuracy: 0.9514 - val_loss: 0.2049 - val_accuracy: 0.9132 - 208ms/epoch - 1ms/step\n",
      "Epoch 25/50\n",
      "194/194 - 0s - loss: 0.1262 - accuracy: 0.9648 - val_loss: 0.1799 - val_accuracy: 0.9380 - 217ms/epoch - 1ms/step\n",
      "Epoch 26/50\n",
      "194/194 - 0s - loss: 0.1149 - accuracy: 0.9669 - val_loss: 0.1872 - val_accuracy: 0.9132 - 213ms/epoch - 1ms/step\n",
      "Epoch 27/50\n",
      "194/194 - 0s - loss: 0.1132 - accuracy: 0.9679 - val_loss: 0.1656 - val_accuracy: 0.9421 - 202ms/epoch - 1ms/step\n",
      "Epoch 28/50\n",
      "194/194 - 0s - loss: 0.1124 - accuracy: 0.9659 - val_loss: 0.1696 - val_accuracy: 0.9421 - 207ms/epoch - 1ms/step\n",
      "Epoch 29/50\n",
      "194/194 - 0s - loss: 0.1017 - accuracy: 0.9731 - val_loss: 0.1907 - val_accuracy: 0.9215 - 219ms/epoch - 1ms/step\n",
      "Epoch 30/50\n",
      "194/194 - 0s - loss: 0.1014 - accuracy: 0.9721 - val_loss: 0.1710 - val_accuracy: 0.9339 - 208ms/epoch - 1ms/step\n",
      "Epoch 31/50\n",
      "194/194 - 0s - loss: 0.0994 - accuracy: 0.9710 - val_loss: 0.1657 - val_accuracy: 0.9298 - 205ms/epoch - 1ms/step\n",
      "Epoch 32/50\n",
      "194/194 - 0s - loss: 0.0921 - accuracy: 0.9741 - val_loss: 0.1564 - val_accuracy: 0.9380 - 216ms/epoch - 1ms/step\n",
      "Epoch 33/50\n",
      "194/194 - 0s - loss: 0.0901 - accuracy: 0.9741 - val_loss: 0.1512 - val_accuracy: 0.9421 - 198ms/epoch - 1ms/step\n",
      "Epoch 34/50\n",
      "194/194 - 0s - loss: 0.0767 - accuracy: 0.9762 - val_loss: 0.1609 - val_accuracy: 0.9463 - 194ms/epoch - 1ms/step\n",
      "Epoch 35/50\n",
      "194/194 - 0s - loss: 0.0859 - accuracy: 0.9772 - val_loss: 0.1459 - val_accuracy: 0.9298 - 219ms/epoch - 1ms/step\n",
      "Epoch 36/50\n",
      "194/194 - 0s - loss: 0.0757 - accuracy: 0.9793 - val_loss: 0.1469 - val_accuracy: 0.9339 - 211ms/epoch - 1ms/step\n",
      "Epoch 37/50\n",
      "194/194 - 0s - loss: 0.0721 - accuracy: 0.9741 - val_loss: 0.1409 - val_accuracy: 0.9421 - 209ms/epoch - 1ms/step\n",
      "Epoch 38/50\n",
      "194/194 - 0s - loss: 0.0682 - accuracy: 0.9804 - val_loss: 0.1539 - val_accuracy: 0.9298 - 189ms/epoch - 976us/step\n",
      "Epoch 39/50\n",
      "194/194 - 0s - loss: 0.0642 - accuracy: 0.9845 - val_loss: 0.1262 - val_accuracy: 0.9421 - 211ms/epoch - 1ms/step\n",
      "Epoch 40/50\n",
      "194/194 - 0s - loss: 0.0618 - accuracy: 0.9835 - val_loss: 0.1550 - val_accuracy: 0.9298 - 203ms/epoch - 1ms/step\n",
      "Epoch 41/50\n",
      "194/194 - 0s - loss: 0.0592 - accuracy: 0.9824 - val_loss: 0.1538 - val_accuracy: 0.9256 - 212ms/epoch - 1ms/step\n",
      "Epoch 42/50\n",
      "194/194 - 0s - loss: 0.0624 - accuracy: 0.9824 - val_loss: 0.1225 - val_accuracy: 0.9463 - 207ms/epoch - 1ms/step\n",
      "Epoch 43/50\n",
      "194/194 - 0s - loss: 0.0513 - accuracy: 0.9897 - val_loss: 0.1895 - val_accuracy: 0.9256 - 209ms/epoch - 1ms/step\n",
      "Epoch 44/50\n",
      "194/194 - 0s - loss: 0.0624 - accuracy: 0.9772 - val_loss: 0.1409 - val_accuracy: 0.9504 - 201ms/epoch - 1ms/step\n",
      "Epoch 45/50\n",
      "194/194 - 0s - loss: 0.0509 - accuracy: 0.9866 - val_loss: 0.1152 - val_accuracy: 0.9504 - 222ms/epoch - 1ms/step\n",
      "Epoch 46/50\n",
      "194/194 - 0s - loss: 0.0488 - accuracy: 0.9866 - val_loss: 0.1244 - val_accuracy: 0.9463 - 208ms/epoch - 1ms/step\n",
      "Epoch 47/50\n",
      "194/194 - 0s - loss: 0.0497 - accuracy: 0.9855 - val_loss: 0.2023 - val_accuracy: 0.9421 - 194ms/epoch - 998us/step\n",
      "Epoch 48/50\n",
      "194/194 - 0s - loss: 0.0544 - accuracy: 0.9866 - val_loss: 0.1449 - val_accuracy: 0.9504 - 202ms/epoch - 1ms/step\n",
      "Epoch 49/50\n",
      "194/194 - 0s - loss: 0.0506 - accuracy: 0.9824 - val_loss: 0.1230 - val_accuracy: 0.9380 - 200ms/epoch - 1ms/step\n",
      "Epoch 50/50\n",
      "194/194 - 0s - loss: 0.0421 - accuracy: 0.9886 - val_loss: 0.1482 - val_accuracy: 0.9298 - 221ms/epoch - 1ms/step\n"
     ]
    }
   ],
   "source": [
    "history = model.fit(X_Train, Y_Train, \n",
    "                    batch_size = 5, \n",
    "                    epochs= 50, \n",
    "                    verbose = 2, \n",
    "                    validation_split = 0.2)"
   ]
  },
  {
   "cell_type": "markdown",
   "id": "c9fda037",
   "metadata": {},
   "source": [
    "<b><font size=\"3\">Evaluating Results of ANN</font></b>"
   ]
  },
  {
   "cell_type": "code",
   "execution_count": 25,
   "id": "c56b2cd9",
   "metadata": {},
   "outputs": [
    {
     "data": {
      "text/plain": [
       "<matplotlib.legend.Legend at 0x2004f076fa0>"
      ]
     },
     "execution_count": 25,
     "metadata": {},
     "output_type": "execute_result"
    },
    {
     "data": {
      "image/png": "[encoded data removed]",
      "text/plain": [
       "<Figure size 432x288 with 1 Axes>"
      ]
     },
     "metadata": {
      "needs_background": "light"
     },
     "output_type": "display_data"
    }
   ],
   "source": [
    "accuracy = history.history['accuracy']\n",
    "validation_accuracy = history.history['val_accuracy']\n",
    "\n",
    "plt.plot(accuracy, label='Training Set Accuracy') \n",
    "plt.plot(validation_accuracy, label='Validation Set Accuracy') \n",
    "plt.ylabel('Accuracy') \n",
    "plt.ylim([min(plt.ylim()),1]) \n",
    "plt.title('Training and Validation Accuracy Across Epochs') \n",
    "plt.legend()"
   ]
  },
  {
   "cell_type": "code",
   "execution_count": 26,
   "id": "32161416",
   "metadata": {},
   "outputs": [
    {
     "data": {
      "text/plain": [
       "<matplotlib.legend.Legend at 0x2004f105190>"
      ]
     },
     "execution_count": 26,
     "metadata": {},
     "output_type": "execute_result"
    },
    {
     "data": {
      "image/png": "[encoded data removed]",
      "text/plain": [
       "<Figure size 432x288 with 1 Axes>"
      ]
     },
     "metadata": {
      "needs_background": "light"
     },
     "output_type": "display_data"
    }
   ],
   "source": [
    "loss = history.history['loss'] \n",
    "validation_loss = history.history['val_loss'] \n",
    "\n",
    "plt.plot(loss, label='Training Set Loss') \n",
    "plt.plot(validation_loss, label='Validation Set Loss') \n",
    "plt.ylabel('Loss') \n",
    "plt.title('Training and Validation Loss Across Epochs') \n",
    "plt.legend()"
   ]
  },
  {
   "cell_type": "code",
   "execution_count": 27,
   "id": "3dfb1c9e",
   "metadata": {},
   "outputs": [
    {
     "name": "stdout",
     "output_type": "stream",
     "text": [
      "17/17 [==============================] - 0s 872us/step\n"
     ]
    }
   ],
   "source": [
    "pred_ann = model.predict(X_Test)\n",
    "pred_ann = pred_ann.argmax(axis=1)"
   ]
  },
  {
   "cell_type": "code",
   "execution_count": 28,
   "id": "f8d0de8c",
   "metadata": {},
   "outputs": [
    {
     "data": {
      "image/png": "[encoded data removed]",
      "text/plain": [
       "<Figure size 432x288 with 2 Axes>"
      ]
     },
     "metadata": {
      "needs_background": "light"
     },
     "output_type": "display_data"
    }
   ],
   "source": [
    "confusion_matrix = confusion_matrix(Y_Test, pred_ann) \n",
    "ax = sns.heatmap(confusion_matrix, cmap='flare', annot=True, fmt='d')\n",
    "\n",
    "plt.xlabel(\"Predicted Class\", fontsize=12) \n",
    "plt.ylabel(\"True Class\", fontsize=12) \n",
    "plt.title(\"ANN Confusion Matrix\", fontsize=12) \n",
    "\n",
    "plt.show()"
   ]
  },
  {
   "cell_type": "code",
   "execution_count": 29,
   "id": "28133f25",
   "metadata": {},
   "outputs": [
    {
     "name": "stdout",
     "output_type": "stream",
     "text": [
      "              precision    recall  f1-score   support\n",
      "\n",
      "           0       0.92      0.85      0.88       111\n",
      "           1       0.90      0.82      0.86        22\n",
      "           2       0.96      0.99      0.97       368\n",
      "           3       1.00      0.89      0.94        18\n",
      "\n",
      "    accuracy                           0.95       519\n",
      "   macro avg       0.94      0.89      0.91       519\n",
      "weighted avg       0.95      0.95      0.95       519\n",
      "\n"
     ]
    }
   ],
   "source": [
    "print(classification_report(Y_Test, pred_ann))"
   ]
  },
  {
   "cell_type": "code",
   "execution_count": 30,
   "id": "b3b1984d",
   "metadata": {},
   "outputs": [
    {
     "name": "stdout",
     "output_type": "stream",
     "text": [
      "17/17 [==============================] - 0s 882us/step - loss: 0.1472 - accuracy: 0.9499\n",
      "Neural Network accuracy: 94.99%\n"
     ]
    }
   ],
   "source": [
    "scores = model.evaluate(X_Test, Y_Test)\n",
    "print('Neural Network %s: %.2f%%' % (model.metrics_names[1], scores[1]*100))"
   ]
  },
  {
   "cell_type": "code",
   "execution_count": null,
   "id": "111c6b70",
   "metadata": {},
   "outputs": [],
   "source": []
  }
 ],
 "metadata": {
  "kernelspec": {
   "display_name": "Python 3 (ipykernel)",
   "language": "python",
   "name": "python3"
  },
  "language_info": {
   "codemirror_mode": {
    "name": "ipython",
    "version": 3
   },
   "file_extension": ".py",
   "mimetype": "text/x-python",
   "name": "python",
   "nbconvert_exporter": "python",
   "pygments_lexer": "ipython3",
   "version": "3.9.12"
  }
 },
 "nbformat": 4,
 "nbformat_minor": 5
}
